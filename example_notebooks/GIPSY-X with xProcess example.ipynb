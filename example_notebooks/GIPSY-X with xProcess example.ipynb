{
 "cells": [
  {
   "cell_type": "markdown",
   "metadata": {},
   "source": [
    "# Running GIPSY-X with xProcess\n",
    "\n",
    "This is a tutorial on how to use xProcess python scripts to process GPS data using jpl's GIPSY-X\n",
    "\n",
    "\n",
    "\n",
    "## GIPSY-X installation\n",
    "\n",
    "If GIPSY-X is not installed on the computer are using you will need to install it. There are pretty straight forward installation instructions but they are hard to find. They are in the release notes! Or online [here](https://gipsy-oasis.jpl.nasa.gov/gipsy/docs/ReleaseNotesGipsyX-Beta.pdf) (you will beed to be a registered GIPSY user). \n",
    "\n",
    "Make sure to add all the scripts to your path, this is done using the provided shell script in the main Gipsy-X directory. You could also add this to your bashrc/profile if you want it to be more permanent. \n",
    "\n",
    "`source rc_GipsyX.sh`\n",
    "\n",
    "To make sure that everything is setup correctly. Run:\n",
    "`./verify.py`\n",
    "\n",
    "\n",
    "## xProcess install \n",
    "\n",
    "The Code for xProcess is found here on [Github](https://github.com/nvoss12838/xProcess)!\n",
    "\n",
    "To install it:\n",
    "\n",
    "`cd /dir/with/xProcess/`\n",
    "\n",
    "open the file station.py\n",
    "\n",
    "edit line 27:\n",
    "```python\n",
    "ionfile = '/home/nvoss/goa-var/cddis.gsfc.nasa.gov/gps/products/ionex'\n",
    "```\n",
    "such that it points to the directory where your ionex files are...\n",
    "\n",
    "`python setup.py install`\n",
    "\n",
    "\n",
    "## What is xProcess ?\n",
    "\n",
    "It is a collection of 3 python classes\n",
    "1. timeseries class\n",
    "    - holds a timeseries of processed data\n",
    "\n",
    "2. station class\n",
    "    - holds info about a station \n",
    "    - important functions:\n",
    "        -Process: process the gps station\n",
    "\n",
    "3. network class\n",
    "    - basically a class for holding a bunch of stations so that you can just run process once. \n",
    "    \n",
    "   \n"
   ]
  },
  {
   "cell_type": "markdown",
   "metadata": {},
   "source": [
    "## A note on Trees\n",
    "\n",
    "Trees are the input files for gipsyx. It is where the paramater files are all stored. \n",
    "\n",
    "The general format is: \n",
    "main\n",
    "    branch\n",
    "        subbranch\n",
    "\n",
    "where the main part is the object that is open and then the branches are attributes. \n",
    "\n",
    "At the top of the tree are the variables that need to be set for your work enviornment. Please ensure the paths are correct when you copy a tree, the head of the file looks like this:\n",
    "```    \n",
    "GEOPFILE == GNSSinitValues/GNSS.eo\n",
    "\n",
    "GNSSORB_POS  == GNSSinitValues/GNSS.pos\n",
    "\n",
    "GNSS_WLPB    == GNSSinitValues/GNSS.wlpb\n",
    "\n",
    "GNSS_ANT_OFF_PCM == GNSSinitValues/GNSS.pcm\n",
    "\n",
    "GNSSXYZ_FILE == /home/nvoss/tools/gipsyx/goa-var/etc/antenna_cals_xmit/igs08_1930.xyz\n",
    "\n",
    "GNSSLIST     == gnssList.txt\n",
    "\n",
    "XYZFILE_STATIONS == allStations.xyz\n",
    "\n",
    "STATIONLIST == stations.txt\n",
    "\n",
    "GLOBAL_EPOCH == 550238400            # 2017-06-09 00:00:00.000000\n",
    "\n",
    "FILTER_STOP  == 550324785            # 2017-06-09 23:59:45.000000\n",
    "\n",
    "DATARECORD_FILE == dataRecordFile.gz\n",
    "\n",
    "STA_DB == /home/nvoss/tools/xProcess/xProcess/example_notebooks/rinexStaDb\n",
    "\n",
    "OCEANLOAD == Off\n",
    "\n",
    "StationCovOnOff == On\n",
    "\n",
    "IONEXFILE == /home/nvoss/goa-var/cddis.gsfc.nasa.gov/gps/products/ionex/2017/160/jplg1600.17i\n",
    "\n",
    "VMF1DIR == /home/nvoss/goa-var/VMF1GRID/VMF1\n",
    "```\n",
    "\n",
    "You can find an example tree in the Trees directory of xProcess called Nick_0.tree\n",
    "\n",
    "I suggest buiing a tree that you like and then just copying it around. The xProcess script will replace the ionex files, and the epoch automatically.  \n",
    "\n",
    "\n",
    "\n",
    "    "
   ]
  },
  {
   "cell_type": "markdown",
   "metadata": {},
   "source": [
    "## A single station example "
   ]
  },
  {
   "cell_type": "code",
   "execution_count": 1,
   "metadata": {
    "collapsed": true
   },
   "outputs": [],
   "source": [
    "import station\n",
    "#uncomment to see station attributes\n",
    "#station.Station?"
   ]
  },
  {
   "cell_type": "code",
   "execution_count": 2,
   "metadata": {
    "collapsed": true
   },
   "outputs": [],
   "source": [
    "bon2 = station.Station('BON2',9.765,-85.202,17,data='/home/nvoss/tools/xProcess/xProcess/example_notebooks/BON2/*/*')"
   ]
  },
  {
   "cell_type": "code",
   "execution_count": null,
   "metadata": {
    "collapsed": true
   },
   "outputs": [],
   "source": [
    "bon2.process(tree='Trees',start_date=2017.0,end_date=2017.2)"
   ]
  },
  {
   "cell_type": "code",
   "execution_count": 30,
   "metadata": {
    "collapsed": true
   },
   "outputs": [],
   "source": [
    "import pandas as pd\n",
    "# i am not positive about these column names \n",
    "df = pd.read_fwf('BON2.series',\\\n",
    "                 names=['dyr','x','y','z','xx','yy','zz','xy','yz','xz','year','sec','m','d','hr','s','ms'])"
   ]
  },
  {
   "cell_type": "code",
   "execution_count": 28,
   "metadata": {
    "scrolled": true
   },
   "outputs": [
    {
     "name": "stdout",
     "output_type": "stream",
     "text": [
      "Populating the interactive namespace from numpy and matplotlib\n"
     ]
    },
    {
     "data": {
      "text/plain": [
       "<matplotlib.text.Text at 0x7f3b13e02450>"
      ]
     },
     "execution_count": 28,
     "metadata": {},
     "output_type": "execute_result"
    },
    {
     "data": {
      "image/png": "[encoded data removed]",
      "text/plain": [
       "<matplotlib.figure.Figure at 0x7f3b19e322d0>"
      ]
     },
     "metadata": {},
     "output_type": "display_data"
    },
    {
     "data": {
      "image/png": "[encoded data removed]",
      "text/plain": [
       "<matplotlib.figure.Figure at 0x7f3b13f664d0>"
      ]
     },
     "metadata": {},
     "output_type": "display_data"
    },
    {
     "data": {
      "image/png": "[encoded data removed]",
      "text/plain": [
       "<matplotlib.figure.Figure at 0x7f3b13f7f210>"
      ]
     },
     "metadata": {},
     "output_type": "display_data"
    }
   ],
   "source": [
    "%pylab inline \n",
    "\n",
    "df.plot(x='dyr',y='x',kind='scatter')\n",
    "plt.ylabel('m')\n",
    "plt.title('lon')\n",
    "df.plot(x='dyr',y='y',kind='scatter')\n",
    "plt.ylabel('m')\n",
    "plt.title('lat')\n",
    "df.plot(x='dyr',y='z',kind='scatter')\n",
    "plt.ylabel('m')\n",
    "plt.title('verical')"
   ]
  },
  {
   "cell_type": "markdown",
   "metadata": {},
   "source": [
    "## A network example \n",
    "\n",
    "We can use the network class to process a list of stations. They can be initialized through a list of station objects as done in the station example, or there is a provided function for reading the list of stations from a text file. "
   ]
  },
  {
   "cell_type": "code",
   "execution_count": 1,
   "metadata": {
    "collapsed": true
   },
   "outputs": [],
   "source": [
    "import network"
   ]
  },
  {
   "cell_type": "code",
   "execution_count": 8,
   "metadata": {
    "collapsed": true
   },
   "outputs": [],
   "source": [
    "net = network.Network()"
   ]
  },
  {
   "cell_type": "code",
   "execution_count": 9,
   "metadata": {
    "collapsed": true
   },
   "outputs": [],
   "source": [
    "net.addStations('station_list.txt')"
   ]
  },
  {
   "cell_type": "code",
   "execution_count": 10,
   "metadata": {},
   "outputs": [
    {
     "data": {
      "text/plain": [
       "['BIJA', 'BON2', 'CABA']"
      ]
     },
     "execution_count": 10,
     "metadata": {},
     "output_type": "execute_result"
    }
   ],
   "source": [
    "[sta.name for sta in net.stations]"
   ]
  },
  {
   "cell_type": "code",
   "execution_count": 11,
   "metadata": {
    "collapsed": true
   },
   "outputs": [],
   "source": [
    "net.process(start=2017.0,end=2017.2)"
   ]
  },
  {
   "cell_type": "code",
   "execution_count": null,
   "metadata": {
    "collapsed": true
   },
   "outputs": [],
   "source": []
  }
 ],
 "metadata": {
  "kernelspec": {
   "display_name": "Python [conda root]",
   "language": "python",
   "name": "conda-root-py"
  },
  "language_info": {
   "codemirror_mode": {
    "name": "ipython",
    "version": 2
   },
   "file_extension": ".py",
   "mimetype": "text/x-python",
   "name": "python",
   "nbconvert_exporter": "python",
   "pygments_lexer": "ipython2",
   "version": "2.7.13"
  }
 },
 "nbformat": 4,
 "nbformat_minor": 2
}
